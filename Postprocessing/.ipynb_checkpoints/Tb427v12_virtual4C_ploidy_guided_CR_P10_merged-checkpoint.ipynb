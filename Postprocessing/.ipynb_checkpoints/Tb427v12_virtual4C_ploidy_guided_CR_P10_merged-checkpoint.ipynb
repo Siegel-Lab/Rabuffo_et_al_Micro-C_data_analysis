{
 "cells": [
  {
   "cell_type": "code",
   "execution_count": 1,
   "id": "4f905d28",
   "metadata": {},
   "outputs": [],
   "source": [
    "%load_ext autoreload\n",
    "%autoreload 2"
   ]
  },
  {
   "cell_type": "code",
   "execution_count": 2,
   "id": "ca9f7b65",
   "metadata": {},
   "outputs": [],
   "source": [
    "import os, subprocess\n",
    "import pandas as pd\n",
    "import bioframe\n",
    "import cooltools\n",
    "import cooler\n",
    "import numpy as np\n",
    "import matplotlib.pyplot as plt\n",
    "from matplotlib.colors import LogNorm\n",
    "plt.rcParams['font.size']=12\n",
    "\n",
    "from packaging import version\n",
    "if version.parse(cooltools.__version__) < version.parse('0.5.2'):\n",
    "    raise AssertionError(\"tutorials rely on cooltools version 0.5.2 or higher,\"+\n",
    "                         \"please check your cooltools version and update to the latest\")\n",
    "\n",
    "# We can use this function to display a file within the notebook\n",
    "from IPython.display import Image"
   ]
  },
  {
   "cell_type": "code",
   "execution_count": 3,
   "id": "f064f921",
   "metadata": {},
   "outputs": [
    {
     "name": "stdout",
     "output_type": "stream",
     "text": [
      "./mhic_CR_P10_merged_10000.guided_ploidy_Tb427v12.mcool\n"
     ]
    }
   ],
   "source": [
    "cool_file = \"./path/to/file.mcool\"\n",
    "print(cool_file)"
   ]
  },
  {
   "cell_type": "code",
   "execution_count": 4,
   "id": "d93dffb9",
   "metadata": {},
   "outputs": [
    {
     "name": "stdout",
     "output_type": "stream",
     "text": [
      "Traceback (most recent call last):\n",
      "  File \"/Users/c.rabuffo/opt/anaconda3/envs/jupyter/bin/cooltools\", line 11, in <module>\n",
      "    sys.exit(cli())\n",
      "  File \"/Users/c.rabuffo/opt/anaconda3/envs/jupyter/lib/python3.10/site-packages/click/core.py\", line 1130, in __call__\n",
      "    return self.main(*args, **kwargs)\n",
      "  File \"/Users/c.rabuffo/opt/anaconda3/envs/jupyter/lib/python3.10/site-packages/click/core.py\", line 1055, in main\n",
      "    rv = self.invoke(ctx)\n",
      "  File \"/Users/c.rabuffo/opt/anaconda3/envs/jupyter/lib/python3.10/site-packages/click/core.py\", line 1657, in invoke\n",
      "    return _process_result(sub_ctx.command.invoke(sub_ctx))\n",
      "  File \"/Users/c.rabuffo/opt/anaconda3/envs/jupyter/lib/python3.10/site-packages/click/core.py\", line 1404, in invoke\n",
      "    return ctx.invoke(self.callback, **ctx.params)\n",
      "  File \"/Users/c.rabuffo/opt/anaconda3/envs/jupyter/lib/python3.10/site-packages/click/core.py\", line 760, in invoke\n",
      "    return __callback(*args, **kwargs)\n",
      "  File \"/Users/c.rabuffo/opt/anaconda3/envs/jupyter/lib/python3.10/site-packages/cooltools/cli/virtual4c.py\", line 68, in virtual4c\n",
      "    v4c = api.virtual4c.virtual4c(\n",
      "  File \"/Users/c.rabuffo/opt/anaconda3/envs/jupyter/lib/python3.10/site-packages/cooltools/api/virtual4c.py\", line 113, in virtual4c\n",
      "    counts = list(map(f, clr.chromnames))\n",
      "  File \"/Users/c.rabuffo/opt/anaconda3/envs/jupyter/lib/python3.10/site-packages/cooltools/api/virtual4c.py\", line 24, in _extract_profile\n",
      "    pxls1 = clr.matrix(balance=clr_weight_name, as_pixels=True, join=True).fetch(\n",
      "  File \"/Users/c.rabuffo/opt/anaconda3/envs/jupyter/lib/python3.10/site-packages/cooler/core/_selectors.py\", line 149, in fetch\n",
      "    i0, i1, j0, j1 = self._fetch(*args, **kwargs)\n",
      "  File \"/Users/c.rabuffo/opt/anaconda3/envs/jupyter/lib/python3.10/site-packages/cooler/api.py\", line 393, in _fetch\n",
      "    region2 = parse_region(region2, self._chromsizes)\n",
      "  File \"/Users/c.rabuffo/opt/anaconda3/envs/jupyter/lib/python3.10/site-packages/cooler/util.py\", line 178, in parse_region\n",
      "    raise ValueError(f\"Genomic region out of bounds: [{start}, {end})\")\n",
      "ValueError: Genomic region out of bounds: [970000, 975000)\n"
     ]
    }
   ],
   "source": [
    "####### add coordinates of points of views\n",
    "####### examples:\n",
    "!cooltools virtual4c $cool_file::resolutions/10000 --bigwig Chr1_coreA_Tb427v12:603850-647640 -o centromeres/cen1A\n",
    "!cooltools virtual4c $cool_file::resolutions/10000 --bigwig Chr1_coreA_Tb427v12:656306-663865 -o rRNAs/Chr1_coreA\n",
    "!cooltools virtual4c $cool_file::resolutions/5000 --bigwig Chr3_coreA_Tb427v12:1129196-1129705 -o tRNAs/tRNA_Chr3_coreA_1\n"
   ]
  }
 ],
 "metadata": {
  "kernelspec": {
   "display_name": "Python 3 (ipykernel)",
   "language": "python",
   "name": "python3"
  },
  "language_info": {
   "codemirror_mode": {
    "name": "ipython",
    "version": 3
   },
   "file_extension": ".py",
   "mimetype": "text/x-python",
   "name": "python",
   "nbconvert_exporter": "python",
   "pygments_lexer": "ipython3",
   "version": "3.10.10"
  }
 },
 "nbformat": 4,
 "nbformat_minor": 5
}
